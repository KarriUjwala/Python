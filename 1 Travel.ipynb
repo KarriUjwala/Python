{
  "nbformat": 4,
  "nbformat_minor": 0,
  "metadata": {
    "colab": {
      "provenance": []
    },
    "kernelspec": {
      "name": "python3",
      "display_name": "Python 3"
    },
    "language_info": {
      "name": "python"
    }
  },
  "cells": [
    {
      "cell_type": "code",
      "execution_count": null,
      "metadata": {
        "id": "4fd2si2JdPE0"
      },
      "outputs": [],
      "source": [
        "import pandas as pd"
      ]
    },
    {
      "cell_type": "code",
      "source": [
        "travel = pd.read_csv(\"Travel.csv\")"
      ],
      "metadata": {
        "id": "2zVvqkk7esAD"
      },
      "execution_count": null,
      "outputs": []
    },
    {
      "cell_type": "code",
      "source": [
        "travel"
      ],
      "metadata": {
        "colab": {
          "base_uri": "https://localhost:8080/",
          "height": 565
        },
        "id": "BP8FXtQGeyYI",
        "outputId": "2c80b27c-8adf-4d40-d3b6-f07ad0a0f381"
      },
      "execution_count": null,
      "outputs": [
        {
          "output_type": "execute_result",
          "data": {
            "text/plain": [
              "      CustomerID  ProdTaken   Age    TypeofContact  CityTier  DurationOfPitch  \\\n",
              "0         200000          1  41.0     Self Enquiry         3              6.0   \n",
              "1         200001          0  49.0  Company Invited         1             14.0   \n",
              "2         200002          1  37.0     Self Enquiry         1              8.0   \n",
              "3         200003          0  33.0  Company Invited         1              9.0   \n",
              "4         200004          0   NaN     Self Enquiry         1              8.0   \n",
              "...          ...        ...   ...              ...       ...              ...   \n",
              "4883      204883          1  49.0     Self Enquiry         3              9.0   \n",
              "4884      204884          1  28.0  Company Invited         1             31.0   \n",
              "4885      204885          1  52.0     Self Enquiry         3             17.0   \n",
              "4886      204886          1  19.0     Self Enquiry         3             16.0   \n",
              "4887      204887          1  36.0     Self Enquiry         1             14.0   \n",
              "\n",
              "          Occupation  Gender  NumberOfPersonVisiting  NumberOfFollowups  \\\n",
              "0           Salaried  Female                       3                3.0   \n",
              "1           Salaried    Male                       3                4.0   \n",
              "2        Free Lancer    Male                       3                4.0   \n",
              "3           Salaried  Female                       2                3.0   \n",
              "4     Small Business    Male                       2                3.0   \n",
              "...              ...     ...                     ...                ...   \n",
              "4883  Small Business    Male                       3                5.0   \n",
              "4884        Salaried    Male                       4                5.0   \n",
              "4885        Salaried  Female                       4                4.0   \n",
              "4886  Small Business    Male                       3                4.0   \n",
              "4887        Salaried    Male                       4                4.0   \n",
              "\n",
              "     ProductPitched  PreferredPropertyStar MaritalStatus  NumberOfTrips  \\\n",
              "0            Deluxe                    3.0        Single            1.0   \n",
              "1            Deluxe                    4.0      Divorced            2.0   \n",
              "2             Basic                    3.0        Single            7.0   \n",
              "3             Basic                    3.0      Divorced            2.0   \n",
              "4             Basic                    4.0      Divorced            1.0   \n",
              "...             ...                    ...           ...            ...   \n",
              "4883         Deluxe                    4.0     Unmarried            2.0   \n",
              "4884          Basic                    3.0        Single            3.0   \n",
              "4885       Standard                    4.0       Married            7.0   \n",
              "4886          Basic                    3.0        Single            3.0   \n",
              "4887          Basic                    4.0     Unmarried            3.0   \n",
              "\n",
              "      Passport  PitchSatisfactionScore  OwnCar  NumberOfChildrenVisiting  \\\n",
              "0            1                       2       1                       0.0   \n",
              "1            0                       3       1                       2.0   \n",
              "2            1                       3       0                       0.0   \n",
              "3            1                       5       1                       1.0   \n",
              "4            0                       5       1                       0.0   \n",
              "...        ...                     ...     ...                       ...   \n",
              "4883         1                       1       1                       1.0   \n",
              "4884         1                       3       1                       2.0   \n",
              "4885         0                       1       1                       3.0   \n",
              "4886         0                       5       0                       2.0   \n",
              "4887         1                       3       1                       2.0   \n",
              "\n",
              "         Designation  MonthlyIncome  \n",
              "0            Manager        20993.0  \n",
              "1            Manager        20130.0  \n",
              "2          Executive        17090.0  \n",
              "3          Executive        17909.0  \n",
              "4          Executive        18468.0  \n",
              "...              ...            ...  \n",
              "4883         Manager        26576.0  \n",
              "4884       Executive        21212.0  \n",
              "4885  Senior Manager        31820.0  \n",
              "4886       Executive        20289.0  \n",
              "4887       Executive        24041.0  \n",
              "\n",
              "[4888 rows x 20 columns]"
            ],
            "text/html": [
              "\n",
              "  <div id=\"df-5974fc2a-9c61-4edf-b147-e82ae826a6e1\" class=\"colab-df-container\">\n",
              "    <div>\n",
              "<style scoped>\n",
              "    .dataframe tbody tr th:only-of-type {\n",
              "        vertical-align: middle;\n",
              "    }\n",
              "\n",
              "    .dataframe tbody tr th {\n",
              "        vertical-align: top;\n",
              "    }\n",
              "\n",
              "    .dataframe thead th {\n",
              "        text-align: right;\n",
              "    }\n",
              "</style>\n",
              "<table border=\"1\" class=\"dataframe\">\n",
              "  <thead>\n",
              "    <tr style=\"text-align: right;\">\n",
              "      <th></th>\n",
              "      <th>CustomerID</th>\n",
              "      <th>ProdTaken</th>\n",
              "      <th>Age</th>\n",
              "      <th>TypeofContact</th>\n",
              "      <th>CityTier</th>\n",
              "      <th>DurationOfPitch</th>\n",
              "      <th>Occupation</th>\n",
              "      <th>Gender</th>\n",
              "      <th>NumberOfPersonVisiting</th>\n",
              "      <th>NumberOfFollowups</th>\n",
              "      <th>ProductPitched</th>\n",
              "      <th>PreferredPropertyStar</th>\n",
              "      <th>MaritalStatus</th>\n",
              "      <th>NumberOfTrips</th>\n",
              "      <th>Passport</th>\n",
              "      <th>PitchSatisfactionScore</th>\n",
              "      <th>OwnCar</th>\n",
              "      <th>NumberOfChildrenVisiting</th>\n",
              "      <th>Designation</th>\n",
              "      <th>MonthlyIncome</th>\n",
              "    </tr>\n",
              "  </thead>\n",
              "  <tbody>\n",
              "    <tr>\n",
              "      <th>0</th>\n",
              "      <td>200000</td>\n",
              "      <td>1</td>\n",
              "      <td>41.0</td>\n",
              "      <td>Self Enquiry</td>\n",
              "      <td>3</td>\n",
              "      <td>6.0</td>\n",
              "      <td>Salaried</td>\n",
              "      <td>Female</td>\n",
              "      <td>3</td>\n",
              "      <td>3.0</td>\n",
              "      <td>Deluxe</td>\n",
              "      <td>3.0</td>\n",
              "      <td>Single</td>\n",
              "      <td>1.0</td>\n",
              "      <td>1</td>\n",
              "      <td>2</td>\n",
              "      <td>1</td>\n",
              "      <td>0.0</td>\n",
              "      <td>Manager</td>\n",
              "      <td>20993.0</td>\n",
              "    </tr>\n",
              "    <tr>\n",
              "      <th>1</th>\n",
              "      <td>200001</td>\n",
              "      <td>0</td>\n",
              "      <td>49.0</td>\n",
              "      <td>Company Invited</td>\n",
              "      <td>1</td>\n",
              "      <td>14.0</td>\n",
              "      <td>Salaried</td>\n",
              "      <td>Male</td>\n",
              "      <td>3</td>\n",
              "      <td>4.0</td>\n",
              "      <td>Deluxe</td>\n",
              "      <td>4.0</td>\n",
              "      <td>Divorced</td>\n",
              "      <td>2.0</td>\n",
              "      <td>0</td>\n",
              "      <td>3</td>\n",
              "      <td>1</td>\n",
              "      <td>2.0</td>\n",
              "      <td>Manager</td>\n",
              "      <td>20130.0</td>\n",
              "    </tr>\n",
              "    <tr>\n",
              "      <th>2</th>\n",
              "      <td>200002</td>\n",
              "      <td>1</td>\n",
              "      <td>37.0</td>\n",
              "      <td>Self Enquiry</td>\n",
              "      <td>1</td>\n",
              "      <td>8.0</td>\n",
              "      <td>Free Lancer</td>\n",
              "      <td>Male</td>\n",
              "      <td>3</td>\n",
              "      <td>4.0</td>\n",
              "      <td>Basic</td>\n",
              "      <td>3.0</td>\n",
              "      <td>Single</td>\n",
              "      <td>7.0</td>\n",
              "      <td>1</td>\n",
              "      <td>3</td>\n",
              "      <td>0</td>\n",
              "      <td>0.0</td>\n",
              "      <td>Executive</td>\n",
              "      <td>17090.0</td>\n",
              "    </tr>\n",
              "    <tr>\n",
              "      <th>3</th>\n",
              "      <td>200003</td>\n",
              "      <td>0</td>\n",
              "      <td>33.0</td>\n",
              "      <td>Company Invited</td>\n",
              "      <td>1</td>\n",
              "      <td>9.0</td>\n",
              "      <td>Salaried</td>\n",
              "      <td>Female</td>\n",
              "      <td>2</td>\n",
              "      <td>3.0</td>\n",
              "      <td>Basic</td>\n",
              "      <td>3.0</td>\n",
              "      <td>Divorced</td>\n",
              "      <td>2.0</td>\n",
              "      <td>1</td>\n",
              "      <td>5</td>\n",
              "      <td>1</td>\n",
              "      <td>1.0</td>\n",
              "      <td>Executive</td>\n",
              "      <td>17909.0</td>\n",
              "    </tr>\n",
              "    <tr>\n",
              "      <th>4</th>\n",
              "      <td>200004</td>\n",
              "      <td>0</td>\n",
              "      <td>NaN</td>\n",
              "      <td>Self Enquiry</td>\n",
              "      <td>1</td>\n",
              "      <td>8.0</td>\n",
              "      <td>Small Business</td>\n",
              "      <td>Male</td>\n",
              "      <td>2</td>\n",
              "      <td>3.0</td>\n",
              "      <td>Basic</td>\n",
              "      <td>4.0</td>\n",
              "      <td>Divorced</td>\n",
              "      <td>1.0</td>\n",
              "      <td>0</td>\n",
              "      <td>5</td>\n",
              "      <td>1</td>\n",
              "      <td>0.0</td>\n",
              "      <td>Executive</td>\n",
              "      <td>18468.0</td>\n",
              "    </tr>\n",
              "    <tr>\n",
              "      <th>...</th>\n",
              "      <td>...</td>\n",
              "      <td>...</td>\n",
              "      <td>...</td>\n",
              "      <td>...</td>\n",
              "      <td>...</td>\n",
              "      <td>...</td>\n",
              "      <td>...</td>\n",
              "      <td>...</td>\n",
              "      <td>...</td>\n",
              "      <td>...</td>\n",
              "      <td>...</td>\n",
              "      <td>...</td>\n",
              "      <td>...</td>\n",
              "      <td>...</td>\n",
              "      <td>...</td>\n",
              "      <td>...</td>\n",
              "      <td>...</td>\n",
              "      <td>...</td>\n",
              "      <td>...</td>\n",
              "      <td>...</td>\n",
              "    </tr>\n",
              "    <tr>\n",
              "      <th>4883</th>\n",
              "      <td>204883</td>\n",
              "      <td>1</td>\n",
              "      <td>49.0</td>\n",
              "      <td>Self Enquiry</td>\n",
              "      <td>3</td>\n",
              "      <td>9.0</td>\n",
              "      <td>Small Business</td>\n",
              "      <td>Male</td>\n",
              "      <td>3</td>\n",
              "      <td>5.0</td>\n",
              "      <td>Deluxe</td>\n",
              "      <td>4.0</td>\n",
              "      <td>Unmarried</td>\n",
              "      <td>2.0</td>\n",
              "      <td>1</td>\n",
              "      <td>1</td>\n",
              "      <td>1</td>\n",
              "      <td>1.0</td>\n",
              "      <td>Manager</td>\n",
              "      <td>26576.0</td>\n",
              "    </tr>\n",
              "    <tr>\n",
              "      <th>4884</th>\n",
              "      <td>204884</td>\n",
              "      <td>1</td>\n",
              "      <td>28.0</td>\n",
              "      <td>Company Invited</td>\n",
              "      <td>1</td>\n",
              "      <td>31.0</td>\n",
              "      <td>Salaried</td>\n",
              "      <td>Male</td>\n",
              "      <td>4</td>\n",
              "      <td>5.0</td>\n",
              "      <td>Basic</td>\n",
              "      <td>3.0</td>\n",
              "      <td>Single</td>\n",
              "      <td>3.0</td>\n",
              "      <td>1</td>\n",
              "      <td>3</td>\n",
              "      <td>1</td>\n",
              "      <td>2.0</td>\n",
              "      <td>Executive</td>\n",
              "      <td>21212.0</td>\n",
              "    </tr>\n",
              "    <tr>\n",
              "      <th>4885</th>\n",
              "      <td>204885</td>\n",
              "      <td>1</td>\n",
              "      <td>52.0</td>\n",
              "      <td>Self Enquiry</td>\n",
              "      <td>3</td>\n",
              "      <td>17.0</td>\n",
              "      <td>Salaried</td>\n",
              "      <td>Female</td>\n",
              "      <td>4</td>\n",
              "      <td>4.0</td>\n",
              "      <td>Standard</td>\n",
              "      <td>4.0</td>\n",
              "      <td>Married</td>\n",
              "      <td>7.0</td>\n",
              "      <td>0</td>\n",
              "      <td>1</td>\n",
              "      <td>1</td>\n",
              "      <td>3.0</td>\n",
              "      <td>Senior Manager</td>\n",
              "      <td>31820.0</td>\n",
              "    </tr>\n",
              "    <tr>\n",
              "      <th>4886</th>\n",
              "      <td>204886</td>\n",
              "      <td>1</td>\n",
              "      <td>19.0</td>\n",
              "      <td>Self Enquiry</td>\n",
              "      <td>3</td>\n",
              "      <td>16.0</td>\n",
              "      <td>Small Business</td>\n",
              "      <td>Male</td>\n",
              "      <td>3</td>\n",
              "      <td>4.0</td>\n",
              "      <td>Basic</td>\n",
              "      <td>3.0</td>\n",
              "      <td>Single</td>\n",
              "      <td>3.0</td>\n",
              "      <td>0</td>\n",
              "      <td>5</td>\n",
              "      <td>0</td>\n",
              "      <td>2.0</td>\n",
              "      <td>Executive</td>\n",
              "      <td>20289.0</td>\n",
              "    </tr>\n",
              "    <tr>\n",
              "      <th>4887</th>\n",
              "      <td>204887</td>\n",
              "      <td>1</td>\n",
              "      <td>36.0</td>\n",
              "      <td>Self Enquiry</td>\n",
              "      <td>1</td>\n",
              "      <td>14.0</td>\n",
              "      <td>Salaried</td>\n",
              "      <td>Male</td>\n",
              "      <td>4</td>\n",
              "      <td>4.0</td>\n",
              "      <td>Basic</td>\n",
              "      <td>4.0</td>\n",
              "      <td>Unmarried</td>\n",
              "      <td>3.0</td>\n",
              "      <td>1</td>\n",
              "      <td>3</td>\n",
              "      <td>1</td>\n",
              "      <td>2.0</td>\n",
              "      <td>Executive</td>\n",
              "      <td>24041.0</td>\n",
              "    </tr>\n",
              "  </tbody>\n",
              "</table>\n",
              "<p>4888 rows × 20 columns</p>\n",
              "</div>\n",
              "    <div class=\"colab-df-buttons\">\n",
              "\n",
              "  <div class=\"colab-df-container\">\n",
              "    <button class=\"colab-df-convert\" onclick=\"convertToInteractive('df-5974fc2a-9c61-4edf-b147-e82ae826a6e1')\"\n",
              "            title=\"Convert this dataframe to an interactive table.\"\n",
              "            style=\"display:none;\">\n",
              "\n",
              "  <svg xmlns=\"http://www.w3.org/2000/svg\" height=\"24px\" viewBox=\"0 -960 960 960\">\n",
              "    <path d=\"M120-120v-720h720v720H120Zm60-500h600v-160H180v160Zm220 220h160v-160H400v160Zm0 220h160v-160H400v160ZM180-400h160v-160H180v160Zm440 0h160v-160H620v160ZM180-180h160v-160H180v160Zm440 0h160v-160H620v160Z\"/>\n",
              "  </svg>\n",
              "    </button>\n",
              "\n",
              "  <style>\n",
              "    .colab-df-container {\n",
              "      display:flex;\n",
              "      gap: 12px;\n",
              "    }\n",
              "\n",
              "    .colab-df-convert {\n",
              "      background-color: #E8F0FE;\n",
              "      border: none;\n",
              "      border-radius: 50%;\n",
              "      cursor: pointer;\n",
              "      display: none;\n",
              "      fill: #1967D2;\n",
              "      height: 32px;\n",
              "      padding: 0 0 0 0;\n",
              "      width: 32px;\n",
              "    }\n",
              "\n",
              "    .colab-df-convert:hover {\n",
              "      background-color: #E2EBFA;\n",
              "      box-shadow: 0px 1px 2px rgba(60, 64, 67, 0.3), 0px 1px 3px 1px rgba(60, 64, 67, 0.15);\n",
              "      fill: #174EA6;\n",
              "    }\n",
              "\n",
              "    .colab-df-buttons div {\n",
              "      margin-bottom: 4px;\n",
              "    }\n",
              "\n",
              "    [theme=dark] .colab-df-convert {\n",
              "      background-color: #3B4455;\n",
              "      fill: #D2E3FC;\n",
              "    }\n",
              "\n",
              "    [theme=dark] .colab-df-convert:hover {\n",
              "      background-color: #434B5C;\n",
              "      box-shadow: 0px 1px 3px 1px rgba(0, 0, 0, 0.15);\n",
              "      filter: drop-shadow(0px 1px 2px rgba(0, 0, 0, 0.3));\n",
              "      fill: #FFFFFF;\n",
              "    }\n",
              "  </style>\n",
              "\n",
              "    <script>\n",
              "      const buttonEl =\n",
              "        document.querySelector('#df-5974fc2a-9c61-4edf-b147-e82ae826a6e1 button.colab-df-convert');\n",
              "      buttonEl.style.display =\n",
              "        google.colab.kernel.accessAllowed ? 'block' : 'none';\n",
              "\n",
              "      async function convertToInteractive(key) {\n",
              "        const element = document.querySelector('#df-5974fc2a-9c61-4edf-b147-e82ae826a6e1');\n",
              "        const dataTable =\n",
              "          await google.colab.kernel.invokeFunction('convertToInteractive',\n",
              "                                                    [key], {});\n",
              "        if (!dataTable) return;\n",
              "\n",
              "        const docLinkHtml = 'Like what you see? Visit the ' +\n",
              "          '<a target=\"_blank\" href=https://colab.research.google.com/notebooks/data_table.ipynb>data table notebook</a>'\n",
              "          + ' to learn more about interactive tables.';\n",
              "        element.innerHTML = '';\n",
              "        dataTable['output_type'] = 'display_data';\n",
              "        await google.colab.output.renderOutput(dataTable, element);\n",
              "        const docLink = document.createElement('div');\n",
              "        docLink.innerHTML = docLinkHtml;\n",
              "        element.appendChild(docLink);\n",
              "      }\n",
              "    </script>\n",
              "  </div>\n",
              "\n",
              "\n",
              "<div id=\"df-2a5931ca-9e69-41a1-89c9-628243ec299d\">\n",
              "  <button class=\"colab-df-quickchart\" onclick=\"quickchart('df-2a5931ca-9e69-41a1-89c9-628243ec299d')\"\n",
              "            title=\"Suggest charts\"\n",
              "            style=\"display:none;\">\n",
              "\n",
              "<svg xmlns=\"http://www.w3.org/2000/svg\" height=\"24px\"viewBox=\"0 0 24 24\"\n",
              "     width=\"24px\">\n",
              "    <g>\n",
              "        <path d=\"M19 3H5c-1.1 0-2 .9-2 2v14c0 1.1.9 2 2 2h14c1.1 0 2-.9 2-2V5c0-1.1-.9-2-2-2zM9 17H7v-7h2v7zm4 0h-2V7h2v10zm4 0h-2v-4h2v4z\"/>\n",
              "    </g>\n",
              "</svg>\n",
              "  </button>\n",
              "\n",
              "<style>\n",
              "  .colab-df-quickchart {\n",
              "      --bg-color: #E8F0FE;\n",
              "      --fill-color: #1967D2;\n",
              "      --hover-bg-color: #E2EBFA;\n",
              "      --hover-fill-color: #174EA6;\n",
              "      --disabled-fill-color: #AAA;\n",
              "      --disabled-bg-color: #DDD;\n",
              "  }\n",
              "\n",
              "  [theme=dark] .colab-df-quickchart {\n",
              "      --bg-color: #3B4455;\n",
              "      --fill-color: #D2E3FC;\n",
              "      --hover-bg-color: #434B5C;\n",
              "      --hover-fill-color: #FFFFFF;\n",
              "      --disabled-bg-color: #3B4455;\n",
              "      --disabled-fill-color: #666;\n",
              "  }\n",
              "\n",
              "  .colab-df-quickchart {\n",
              "    background-color: var(--bg-color);\n",
              "    border: none;\n",
              "    border-radius: 50%;\n",
              "    cursor: pointer;\n",
              "    display: none;\n",
              "    fill: var(--fill-color);\n",
              "    height: 32px;\n",
              "    padding: 0;\n",
              "    width: 32px;\n",
              "  }\n",
              "\n",
              "  .colab-df-quickchart:hover {\n",
              "    background-color: var(--hover-bg-color);\n",
              "    box-shadow: 0 1px 2px rgba(60, 64, 67, 0.3), 0 1px 3px 1px rgba(60, 64, 67, 0.15);\n",
              "    fill: var(--button-hover-fill-color);\n",
              "  }\n",
              "\n",
              "  .colab-df-quickchart-complete:disabled,\n",
              "  .colab-df-quickchart-complete:disabled:hover {\n",
              "    background-color: var(--disabled-bg-color);\n",
              "    fill: var(--disabled-fill-color);\n",
              "    box-shadow: none;\n",
              "  }\n",
              "\n",
              "  .colab-df-spinner {\n",
              "    border: 2px solid var(--fill-color);\n",
              "    border-color: transparent;\n",
              "    border-bottom-color: var(--fill-color);\n",
              "    animation:\n",
              "      spin 1s steps(1) infinite;\n",
              "  }\n",
              "\n",
              "  @keyframes spin {\n",
              "    0% {\n",
              "      border-color: transparent;\n",
              "      border-bottom-color: var(--fill-color);\n",
              "      border-left-color: var(--fill-color);\n",
              "    }\n",
              "    20% {\n",
              "      border-color: transparent;\n",
              "      border-left-color: var(--fill-color);\n",
              "      border-top-color: var(--fill-color);\n",
              "    }\n",
              "    30% {\n",
              "      border-color: transparent;\n",
              "      border-left-color: var(--fill-color);\n",
              "      border-top-color: var(--fill-color);\n",
              "      border-right-color: var(--fill-color);\n",
              "    }\n",
              "    40% {\n",
              "      border-color: transparent;\n",
              "      border-right-color: var(--fill-color);\n",
              "      border-top-color: var(--fill-color);\n",
              "    }\n",
              "    60% {\n",
              "      border-color: transparent;\n",
              "      border-right-color: var(--fill-color);\n",
              "    }\n",
              "    80% {\n",
              "      border-color: transparent;\n",
              "      border-right-color: var(--fill-color);\n",
              "      border-bottom-color: var(--fill-color);\n",
              "    }\n",
              "    90% {\n",
              "      border-color: transparent;\n",
              "      border-bottom-color: var(--fill-color);\n",
              "    }\n",
              "  }\n",
              "</style>\n",
              "\n",
              "  <script>\n",
              "    async function quickchart(key) {\n",
              "      const quickchartButtonEl =\n",
              "        document.querySelector('#' + key + ' button');\n",
              "      quickchartButtonEl.disabled = true;  // To prevent multiple clicks.\n",
              "      quickchartButtonEl.classList.add('colab-df-spinner');\n",
              "      try {\n",
              "        const charts = await google.colab.kernel.invokeFunction(\n",
              "            'suggestCharts', [key], {});\n",
              "      } catch (error) {\n",
              "        console.error('Error during call to suggestCharts:', error);\n",
              "      }\n",
              "      quickchartButtonEl.classList.remove('colab-df-spinner');\n",
              "      quickchartButtonEl.classList.add('colab-df-quickchart-complete');\n",
              "    }\n",
              "    (() => {\n",
              "      let quickchartButtonEl =\n",
              "        document.querySelector('#df-2a5931ca-9e69-41a1-89c9-628243ec299d button');\n",
              "      quickchartButtonEl.style.display =\n",
              "        google.colab.kernel.accessAllowed ? 'block' : 'none';\n",
              "    })();\n",
              "  </script>\n",
              "</div>\n",
              "    </div>\n",
              "  </div>\n"
            ],
            "application/vnd.google.colaboratory.intrinsic+json": {
              "type": "dataframe",
              "variable_name": "travel",
              "summary": "{\n  \"name\": \"travel\",\n  \"rows\": 4888,\n  \"fields\": [\n    {\n      \"column\": \"CustomerID\",\n      \"properties\": {\n        \"dtype\": \"number\",\n        \"std\": 1411,\n        \"min\": 200000,\n        \"max\": 204887,\n        \"num_unique_values\": 4888,\n        \"samples\": [\n          200144,\n          200079,\n          202098\n        ],\n        \"semantic_type\": \"\",\n        \"description\": \"\"\n      }\n    },\n    {\n      \"column\": \"ProdTaken\",\n      \"properties\": {\n        \"dtype\": \"number\",\n        \"std\": 0,\n        \"min\": 0,\n        \"max\": 1,\n        \"num_unique_values\": 2,\n        \"samples\": [\n          0,\n          1\n        ],\n        \"semantic_type\": \"\",\n        \"description\": \"\"\n      }\n    },\n    {\n      \"column\": \"Age\",\n      \"properties\": {\n        \"dtype\": \"number\",\n        \"std\": 9.3163870326344,\n        \"min\": 18.0,\n        \"max\": 61.0,\n        \"num_unique_values\": 44,\n        \"samples\": [\n          19.0,\n          27.0\n        ],\n        \"semantic_type\": \"\",\n        \"description\": \"\"\n      }\n    },\n    {\n      \"column\": \"TypeofContact\",\n      \"properties\": {\n        \"dtype\": \"category\",\n        \"num_unique_values\": 2,\n        \"samples\": [\n          \"Company Invited\",\n          \"Self Enquiry\"\n        ],\n        \"semantic_type\": \"\",\n        \"description\": \"\"\n      }\n    },\n    {\n      \"column\": \"CityTier\",\n      \"properties\": {\n        \"dtype\": \"number\",\n        \"std\": 0,\n        \"min\": 1,\n        \"max\": 3,\n        \"num_unique_values\": 3,\n        \"samples\": [\n          3,\n          1\n        ],\n        \"semantic_type\": \"\",\n        \"description\": \"\"\n      }\n    },\n    {\n      \"column\": \"DurationOfPitch\",\n      \"properties\": {\n        \"dtype\": \"number\",\n        \"std\": 8.519642589404391,\n        \"min\": 5.0,\n        \"max\": 127.0,\n        \"num_unique_values\": 34,\n        \"samples\": [\n          13.0,\n          31.0\n        ],\n        \"semantic_type\": \"\",\n        \"description\": \"\"\n      }\n    },\n    {\n      \"column\": \"Occupation\",\n      \"properties\": {\n        \"dtype\": \"category\",\n        \"num_unique_values\": 4,\n        \"samples\": [\n          \"Free Lancer\",\n          \"Large Business\"\n        ],\n        \"semantic_type\": \"\",\n        \"description\": \"\"\n      }\n    },\n    {\n      \"column\": \"Gender\",\n      \"properties\": {\n        \"dtype\": \"category\",\n        \"num_unique_values\": 3,\n        \"samples\": [\n          \"Female\",\n          \"Male\"\n        ],\n        \"semantic_type\": \"\",\n        \"description\": \"\"\n      }\n    },\n    {\n      \"column\": \"NumberOfPersonVisiting\",\n      \"properties\": {\n        \"dtype\": \"number\",\n        \"std\": 0,\n        \"min\": 1,\n        \"max\": 5,\n        \"num_unique_values\": 5,\n        \"samples\": [\n          2,\n          5\n        ],\n        \"semantic_type\": \"\",\n        \"description\": \"\"\n      }\n    },\n    {\n      \"column\": \"NumberOfFollowups\",\n      \"properties\": {\n        \"dtype\": \"number\",\n        \"std\": 1.0025086863932253,\n        \"min\": 1.0,\n        \"max\": 6.0,\n        \"num_unique_values\": 6,\n        \"samples\": [\n          3.0,\n          4.0\n        ],\n        \"semantic_type\": \"\",\n        \"description\": \"\"\n      }\n    },\n    {\n      \"column\": \"ProductPitched\",\n      \"properties\": {\n        \"dtype\": \"category\",\n        \"num_unique_values\": 5,\n        \"samples\": [\n          \"Basic\",\n          \"King\"\n        ],\n        \"semantic_type\": \"\",\n        \"description\": \"\"\n      }\n    },\n    {\n      \"column\": \"PreferredPropertyStar\",\n      \"properties\": {\n        \"dtype\": \"number\",\n        \"std\": 0.7980086787526838,\n        \"min\": 3.0,\n        \"max\": 5.0,\n        \"num_unique_values\": 3,\n        \"samples\": [\n          3.0,\n          4.0\n        ],\n        \"semantic_type\": \"\",\n        \"description\": \"\"\n      }\n    },\n    {\n      \"column\": \"MaritalStatus\",\n      \"properties\": {\n        \"dtype\": \"category\",\n        \"num_unique_values\": 4,\n        \"samples\": [\n          \"Divorced\",\n          \"Unmarried\"\n        ],\n        \"semantic_type\": \"\",\n        \"description\": \"\"\n      }\n    },\n    {\n      \"column\": \"NumberOfTrips\",\n      \"properties\": {\n        \"dtype\": \"number\",\n        \"std\": 1.8490193098078764,\n        \"min\": 1.0,\n        \"max\": 22.0,\n        \"num_unique_values\": 12,\n        \"samples\": [\n          20.0,\n          8.0\n        ],\n        \"semantic_type\": \"\",\n        \"description\": \"\"\n      }\n    },\n    {\n      \"column\": \"Passport\",\n      \"properties\": {\n        \"dtype\": \"number\",\n        \"std\": 0,\n        \"min\": 0,\n        \"max\": 1,\n        \"num_unique_values\": 2,\n        \"samples\": [\n          0,\n          1\n        ],\n        \"semantic_type\": \"\",\n        \"description\": \"\"\n      }\n    },\n    {\n      \"column\": \"PitchSatisfactionScore\",\n      \"properties\": {\n        \"dtype\": \"number\",\n        \"std\": 1,\n        \"min\": 1,\n        \"max\": 5,\n        \"num_unique_values\": 5,\n        \"samples\": [\n          3,\n          1\n        ],\n        \"semantic_type\": \"\",\n        \"description\": \"\"\n      }\n    },\n    {\n      \"column\": \"OwnCar\",\n      \"properties\": {\n        \"dtype\": \"number\",\n        \"std\": 0,\n        \"min\": 0,\n        \"max\": 1,\n        \"num_unique_values\": 2,\n        \"samples\": [\n          0,\n          1\n        ],\n        \"semantic_type\": \"\",\n        \"description\": \"\"\n      }\n    },\n    {\n      \"column\": \"NumberOfChildrenVisiting\",\n      \"properties\": {\n        \"dtype\": \"number\",\n        \"std\": 0.8578611646725665,\n        \"min\": 0.0,\n        \"max\": 3.0,\n        \"num_unique_values\": 4,\n        \"samples\": [\n          2.0,\n          3.0\n        ],\n        \"semantic_type\": \"\",\n        \"description\": \"\"\n      }\n    },\n    {\n      \"column\": \"Designation\",\n      \"properties\": {\n        \"dtype\": \"category\",\n        \"num_unique_values\": 5,\n        \"samples\": [\n          \"Executive\",\n          \"VP\"\n        ],\n        \"semantic_type\": \"\",\n        \"description\": \"\"\n      }\n    },\n    {\n      \"column\": \"MonthlyIncome\",\n      \"properties\": {\n        \"dtype\": \"number\",\n        \"std\": 5380.698360691634,\n        \"min\": 1000.0,\n        \"max\": 98678.0,\n        \"num_unique_values\": 2475,\n        \"samples\": [\n          25793.0,\n          35801.0\n        ],\n        \"semantic_type\": \"\",\n        \"description\": \"\"\n      }\n    }\n  ]\n}"
            }
          },
          "metadata": {},
          "execution_count": 3
        }
      ]
    },
    {
      "cell_type": "code",
      "source": [
        "'''A. What is the distribution of customerages, and how does age relate to product purchase (ProdTaken)?'''\n",
        "\n",
        "# Age distribution\n",
        "age_distribution = travel['Age'].value_counts()\n",
        "\n",
        "# Relation between age and product purchase\n",
        "age_vs_purchase = travel.groupby('Age')['ProdTaken'].mean()\n",
        "print(age_vs_purchase)\n"
      ],
      "metadata": {
        "colab": {
          "base_uri": "https://localhost:8080/"
        },
        "id": "WnbAmcOXe0nP",
        "outputId": "9916ef76-da7e-46aa-ecfe-24880c15b8d3"
      },
      "execution_count": null,
      "outputs": [
        {
          "output_type": "stream",
          "name": "stdout",
          "text": [
            "Age\n",
            "18.0    0.571429\n",
            "19.0    0.656250\n",
            "20.0    0.657895\n",
            "21.0    0.560976\n",
            "22.0    0.326087\n",
            "23.0    0.282609\n",
            "24.0    0.321429\n",
            "25.0    0.270270\n",
            "26.0    0.349057\n",
            "27.0    0.217391\n",
            "28.0    0.176871\n",
            "29.0    0.320225\n",
            "30.0    0.241206\n",
            "31.0    0.201970\n",
            "32.0    0.203046\n",
            "33.0    0.211640\n",
            "34.0    0.208531\n",
            "35.0    0.143460\n",
            "36.0    0.116883\n",
            "37.0    0.129730\n",
            "38.0    0.085227\n",
            "39.0    0.093333\n",
            "40.0    0.157534\n",
            "41.0    0.154839\n",
            "42.0    0.140845\n",
            "43.0    0.076923\n",
            "44.0    0.161905\n",
            "45.0    0.155172\n",
            "46.0    0.090909\n",
            "47.0    0.136364\n",
            "48.0    0.169231\n",
            "49.0    0.138462\n",
            "50.0    0.139535\n",
            "51.0    0.188889\n",
            "52.0    0.205882\n",
            "53.0    0.121212\n",
            "54.0    0.032787\n",
            "55.0    0.109375\n",
            "56.0    0.206897\n",
            "57.0    0.172414\n",
            "58.0    0.354839\n",
            "59.0    0.272727\n",
            "60.0    0.034483\n",
            "61.0    0.000000\n",
            "Name: ProdTaken, dtype: float64\n"
          ]
        }
      ]
    },
    {
      "cell_type": "code",
      "source": [
        "'''B. How does the type of contact(type of contact)influence the likelihood of purchasing a travel product? '''\n",
        "\n",
        "# Influence of type of contact on product purchase\n",
        "contact_purchase = travel.groupby('TypeofContact')['ProdTaken'].mean()\n",
        "print(contact_purchase)"
      ],
      "metadata": {
        "colab": {
          "base_uri": "https://localhost:8080/"
        },
        "id": "pCAG4ZrWe7F_",
        "outputId": "4db1781c-aa73-4e18-c5a0-3ff5e8e9c4a5"
      },
      "execution_count": null,
      "outputs": [
        {
          "output_type": "stream",
          "name": "stdout",
          "text": [
            "TypeofContact\n",
            "Company Invited    0.218464\n",
            "Self Enquiry       0.176249\n",
            "Name: ProdTaken, dtype: float64\n"
          ]
        }
      ]
    },
    {
      "cell_type": "code",
      "source": [
        "'''C. Is there a correlation between the city tier(citytier)and monthly income (monthly income) of customers?'''\n",
        "\n",
        "# Correlation between city tier and monthly income\n",
        "city_income_corr = travel['CityTier'].corr(travel['MonthlyIncome'])\n",
        "print(city_income_corr)"
      ],
      "metadata": {
        "colab": {
          "base_uri": "https://localhost:8080/"
        },
        "id": "AM5L1okVe-PI",
        "outputId": "2f52f790-c973-4c61-eb3c-3299701bb62e"
      },
      "execution_count": null,
      "outputs": [
        {
          "output_type": "stream",
          "name": "stdout",
          "text": [
            "0.05181691698577297\n"
          ]
        }
      ]
    },
    {
      "cell_type": "code",
      "source": [
        "'''D. What is the average duration of a pitch (duration of pitch)for customers who purchased a\n",
        "product versus those who did not?'''\n",
        "\n",
        "# Average duration of pitch\n",
        "avg_pitch_duration = travel.groupby('ProdTaken')['DurationOfPitch'].mean()\n",
        "print(avg_pitch_duration)"
      ],
      "metadata": {
        "colab": {
          "base_uri": "https://localhost:8080/"
        },
        "id": "bF8BeaJqfBdq",
        "outputId": "ab789bcc-266b-47fa-be46-eb97a5f907de"
      },
      "execution_count": null,
      "outputs": [
        {
          "output_type": "stream",
          "name": "stdout",
          "text": [
            "ProdTaken\n",
            "0    15.169325\n",
            "1    16.873143\n",
            "Name: DurationOfPitch, dtype: float64\n"
          ]
        }
      ]
    },
    {
      "cell_type": "code",
      "source": [
        "'''E. How do occupation types(occupation)distribute among customers,and is there an\n",
        "occupation type that is more likely to purchase a travel product? '''\n",
        "\n",
        "# Occupation distribution and relation to product purchase\n",
        "occupation_purchase = travel.groupby('Occupation')['ProdTaken'].mean()\n",
        "print(occupation_purchase)"
      ],
      "metadata": {
        "colab": {
          "base_uri": "https://localhost:8080/"
        },
        "id": "EyQREagLfEUV",
        "outputId": "7ef6d640-dad2-49db-f787-93977db978a2"
      },
      "execution_count": null,
      "outputs": [
        {
          "output_type": "stream",
          "name": "stdout",
          "text": [
            "Occupation\n",
            "Free Lancer       1.000000\n",
            "Large Business    0.276498\n",
            "Salaried          0.174831\n",
            "Small Business    0.184261\n",
            "Name: ProdTaken, dtype: float64\n"
          ]
        }
      ]
    },
    {
      "cell_type": "code",
      "source": [
        "'''# E. Occupation distribution and relation to product purchase\n",
        "occupation_purchase = travel_data.groupby('Occupation')['ProdTaken'].mean()\n",
        "'''\n",
        "# Occupation distribution and relation to product purchase\n",
        "occupation_purchase = travel.groupby('Occupation')['ProdTaken'].mean()\n",
        "\n",
        "print(occupation_purchase)"
      ],
      "metadata": {
        "colab": {
          "base_uri": "https://localhost:8080/"
        },
        "id": "z6vc2lWtfH6j",
        "outputId": "564a540f-932d-4612-84b9-a3da35a37d48"
      },
      "execution_count": null,
      "outputs": [
        {
          "output_type": "stream",
          "name": "stdout",
          "text": [
            "Occupation\n",
            "Free Lancer       1.000000\n",
            "Large Business    0.276498\n",
            "Salaried          0.174831\n",
            "Small Business    0.184261\n",
            "Name: ProdTaken, dtype: float64\n"
          ]
        }
      ]
    },
    {
      "cell_type": "code",
      "source": [
        "''' F. Are there any gender-based preferences for the type of product pitched\n",
        "(ProductPitched)?'''\n",
        "\n",
        "# Gender-based preferences for product types\n",
        "gender_product_preference = travel.groupby('Gender')['ProductPitched'].value_counts(normalize=True)\n",
        "print(gender_product_preference)"
      ],
      "metadata": {
        "colab": {
          "base_uri": "https://localhost:8080/"
        },
        "id": "7q3Cfe41fLkg",
        "outputId": "2b7ec925-ed4a-4a25-d503-91cc0c924455"
      },
      "execution_count": null,
      "outputs": [
        {
          "output_type": "stream",
          "name": "stdout",
          "text": [
            "Gender   ProductPitched\n",
            "Fe Male  Deluxe            0.535484\n",
            "         Standard          0.406452\n",
            "         Super Deluxe      0.032258\n",
            "         Basic             0.025806\n",
            "Female   Basic             0.372042\n",
            "         Deluxe            0.352779\n",
            "         Standard          0.144744\n",
            "         Super Deluxe      0.085305\n",
            "         King              0.045129\n",
            "Male     Basic             0.398491\n",
            "         Deluxe            0.345679\n",
            "         Standard          0.142661\n",
            "         Super Deluxe      0.062414\n",
            "         King              0.050754\n",
            "Name: ProductPitched, dtype: float64\n"
          ]
        }
      ]
    },
    {
      "cell_type": "code",
      "source": [
        "'''G. What is the relationship between the number of trips(number of trips)taken by a\n",
        "customer and their likelihood to purchase a new travel product?'''\n",
        "\n",
        "# Relationship between number of trips and likelihood to purchase\n",
        "trip_vs_purchase = travel.groupby('NumberOfTrips')['ProdTaken'].mean()\n",
        "\n",
        "print(trip_vs_purchase)"
      ],
      "metadata": {
        "colab": {
          "base_uri": "https://localhost:8080/"
        },
        "id": "SXfhEfTofO2Q",
        "outputId": "bc9a9c90-d0a7-45bc-bd32-ac1339fc3ef7"
      },
      "execution_count": null,
      "outputs": [
        {
          "output_type": "stream",
          "name": "stdout",
          "text": [
            "NumberOfTrips\n",
            "1.0     0.180645\n",
            "2.0     0.204235\n",
            "3.0     0.201112\n",
            "4.0     0.127615\n",
            "5.0     0.135371\n",
            "6.0     0.198758\n",
            "7.0     0.284404\n",
            "8.0     0.276190\n",
            "19.0    1.000000\n",
            "20.0    1.000000\n",
            "21.0    0.000000\n",
            "22.0    0.000000\n",
            "Name: ProdTaken, dtype: float64\n"
          ]
        }
      ]
    },
    {
      "cell_type": "code",
      "source": [
        "'''H. Does having a passport(passport)correlate with a higher number of trips taken or a\n",
        "higher likelihood of purchasing a travel product?'''\n",
        "\n",
        "# Correlation between having a passport and travel behavior\n",
        "passport_vs_trip = travel.groupby('Passport')['NumberOfTrips'].mean()\n",
        "passport_vs_purchase = travel.groupby('Passport')['ProdTaken'].mean()\n",
        "\n",
        "print(passport_vs_trip )\n",
        "print(passport_vs_purchase )"
      ],
      "metadata": {
        "colab": {
          "base_uri": "https://localhost:8080/"
        },
        "id": "aD-Ejwjage8d",
        "outputId": "015b7ff1-8902-4ede-ec71-237ce80b4bd2"
      },
      "execution_count": null,
      "outputs": [
        {
          "output_type": "stream",
          "name": "stdout",
          "text": [
            "Passport\n",
            "0    3.221165\n",
            "1    3.273844\n",
            "Name: NumberOfTrips, dtype: float64\n",
            "Passport\n",
            "0    0.122908\n",
            "1    0.347398\n",
            "Name: ProdTaken, dtype: float64\n"
          ]
        }
      ]
    },
    {
      "cell_type": "code",
      "source": [
        "'''I. How satisfied are customers with the pitch (pitch satisfaction score),and does this\n",
        "satisfaction influence product purchase? '''\n",
        "\n",
        "# Satisfaction with pitch and its influence on product purchase\n",
        "satisfaction_vs_purchase = travel.groupby('PitchSatisfactionScore')['ProdTaken'].mean()\n",
        "\n",
        "print(satisfaction_vs_purchase)"
      ],
      "metadata": {
        "colab": {
          "base_uri": "https://localhost:8080/"
        },
        "id": "m9Jg7LUJggt6",
        "outputId": "e2698840-8dd7-4bfe-ea5c-a62bcd0b3391"
      },
      "execution_count": null,
      "outputs": [
        {
          "output_type": "stream",
          "name": "stdout",
          "text": [
            "PitchSatisfactionScore\n",
            "1    0.152866\n",
            "2    0.150171\n",
            "3    0.213802\n",
            "4    0.177632\n",
            "5    0.216495\n",
            "Name: ProdTaken, dtype: float64\n"
          ]
        }
      ]
    },
    {
      "cell_type": "code",
      "source": [
        "'''J. Among customers with children (number of children visiting),how does the number\n",
        "of children impact travel product purchases?'''\n",
        "\n",
        "# Impact of number of children on travel product purchases\n",
        "children_vs_purchase = travel.groupby('NumberOfChildrenVisiting')['ProdTaken'].mean()\n",
        "\n",
        "print(children_vs_purchase)"
      ],
      "metadata": {
        "colab": {
          "base_uri": "https://localhost:8080/"
        },
        "id": "ZEUlW8XsgkbN",
        "outputId": "f173d16a-4245-4b13-f5e9-78a143468451"
      },
      "execution_count": null,
      "outputs": [
        {
          "output_type": "stream",
          "name": "stdout",
          "text": [
            "NumberOfChildrenVisiting\n",
            "0.0    0.186691\n",
            "1.0    0.188462\n",
            "2.0    0.189513\n",
            "3.0    0.203077\n",
            "Name: ProdTaken, dtype: float64\n"
          ]
        }
      ]
    },
    {
      "cell_type": "code",
      "source": [
        "'''K. Gender preferences for product types: how does gender influence the preference for different types of travel\n",
        "products pitched (product pitched)?'''\n",
        "\n",
        "# Gender preferences for product types\n",
        "gender_product_preference = travel.groupby('Gender')['ProductPitched'].value_counts(normalize=True)\n",
        "\n",
        "print(gender_product_preference)"
      ],
      "metadata": {
        "colab": {
          "base_uri": "https://localhost:8080/"
        },
        "id": "OzZl4_0lgnqo",
        "outputId": "25ecaf54-8b6b-44e6-b282-2261a5280ed8"
      },
      "execution_count": null,
      "outputs": [
        {
          "output_type": "stream",
          "name": "stdout",
          "text": [
            "Gender   ProductPitched\n",
            "Fe Male  Deluxe            0.535484\n",
            "         Standard          0.406452\n",
            "         Super Deluxe      0.032258\n",
            "         Basic             0.025806\n",
            "Female   Basic             0.372042\n",
            "         Deluxe            0.352779\n",
            "         Standard          0.144744\n",
            "         Super Deluxe      0.085305\n",
            "         King              0.045129\n",
            "Male     Basic             0.398491\n",
            "         Deluxe            0.345679\n",
            "         Standard          0.142661\n",
            "         Super Deluxe      0.062414\n",
            "         King              0.050754\n",
            "Name: ProductPitched, dtype: float64\n"
          ]
        }
      ]
    },
    {
      "cell_type": "code",
      "source": [
        "'''L. Impact of marital status on travel preferences: does marital status affect the choice of\n",
        "travel product, and if so, how do different marital statuses correlate with product purchases (prod taken)? '''\n",
        "\n",
        "# Impact of marital status on travel preferences\n",
        "marital_status_vs_purchase = travel.groupby('MaritalStatus')['ProdTaken'].mean()\n",
        "\n",
        "print(marital_status_vs_purchase)"
      ],
      "metadata": {
        "colab": {
          "base_uri": "https://localhost:8080/"
        },
        "id": "hluXM0iAgrGf",
        "outputId": "8fbdee04-0e3d-4fc5-cf40-d9cab31a4772"
      },
      "execution_count": null,
      "outputs": [
        {
          "output_type": "stream",
          "name": "stdout",
          "text": [
            "MaritalStatus\n",
            "Divorced     0.130526\n",
            "Married      0.139316\n",
            "Single       0.331878\n",
            "Unmarried    0.243402\n",
            "Name: ProdTaken, dtype: float64\n"
          ]
        }
      ]
    },
    {
      "cell_type": "code",
      "source": [
        "'''M. Relationship between number of children and travel product interest: how does the\n",
        "number of children visiting (number of children visiting) impact the likelihood of purchasing a travel product?'''\n",
        "\n",
        "# Relationship between number of children and travel product interest\n",
        "children_vs_interest = travel.groupby('NumberOfChildrenVisiting')['ProductPitched'].value_counts(normalize=True)\n",
        "\n",
        "print(children_vs_interest)"
      ],
      "metadata": {
        "colab": {
          "base_uri": "https://localhost:8080/"
        },
        "id": "79FCdFH7gwZB",
        "outputId": "1c306658-b884-42e2-98a0-e72728c758b7"
      },
      "execution_count": null,
      "outputs": [
        {
          "output_type": "stream",
          "name": "stdout",
          "text": [
            "NumberOfChildrenVisiting  ProductPitched\n",
            "0.0                       Basic             0.373383\n",
            "                          Deluxe            0.361368\n",
            "                          Standard          0.158965\n",
            "                          Super Deluxe      0.077634\n",
            "                          King              0.028651\n",
            "1.0                       Basic             0.381250\n",
            "                          Deluxe            0.362500\n",
            "                          Standard          0.152885\n",
            "                          Super Deluxe      0.060577\n",
            "                          King              0.042788\n",
            "2.0                       Basic             0.387266\n",
            "                          Deluxe            0.355056\n",
            "                          Standard          0.148315\n",
            "                          Super Deluxe      0.055431\n",
            "                          King              0.053933\n",
            "3.0                       Basic             0.390769\n",
            "                          Deluxe            0.344615\n",
            "                          Standard          0.163077\n",
            "                          King              0.052308\n",
            "                          Super Deluxe      0.049231\n",
            "Name: ProductPitched, dtype: float64\n"
          ]
        }
      ]
    },
    {
      "cell_type": "code",
      "source": [
        "'''N. Influence of owning a car on travel decisions: is there a correlation between owning a\n",
        "car (own car) and the number of trips taken (number of trips) or the type of travel product purchased? '''\n",
        "\n",
        "# Influence of owning a car on travel decisions\n",
        "car_vs_trips = travel.groupby('OwnCar')['NumberOfTrips'].mean()\n",
        "car_vs_purchase = travel.groupby('OwnCar')['ProdTaken'].mean()\n",
        "\n",
        "print(car_vs_trips)\n",
        "print(car_vs_purchase)"
      ],
      "metadata": {
        "id": "AENmai0WgyhW",
        "outputId": "5762b793-93d6-4cba-e0f4-11447b6ff5c2",
        "colab": {
          "base_uri": "https://localhost:8080/"
        }
      },
      "execution_count": null,
      "outputs": [
        {
          "output_type": "stream",
          "name": "stdout",
          "text": [
            "OwnCar\n",
            "0    3.264349\n",
            "1    3.219346\n",
            "Name: NumberOfTrips, dtype: float64\n",
            "OwnCar\n",
            "0    0.193966\n",
            "1    0.184697\n",
            "Name: ProdTaken, dtype: float64\n"
          ]
        }
      ]
    },
    {
      "cell_type": "code",
      "source": [
        "'''O. Income level and product choice: how does the monthly income (monthly income) of\n",
        "customers influence their choice of travel products, and is there a preferred product for different income levels?'''\n",
        "\n",
        "# Income level and product choice\n",
        "income_vs_product_choice = travel.groupby('MonthlyIncome')['ProductPitched'].value_counts(normalize=True)\n",
        "\n",
        "print(income_vs_product_choice)"
      ],
      "metadata": {
        "id": "s132RBY-g124",
        "outputId": "a9344924-35f2-490d-ee98-12f8c9c00a60",
        "colab": {
          "base_uri": "https://localhost:8080/"
        }
      },
      "execution_count": null,
      "outputs": [
        {
          "output_type": "stream",
          "name": "stdout",
          "text": [
            "MonthlyIncome  ProductPitched\n",
            "1000.0         Deluxe            1.0\n",
            "4678.0         Deluxe            1.0\n",
            "16009.0        Basic             1.0\n",
            "16051.0        Basic             1.0\n",
            "16052.0        Basic             1.0\n",
            "                                ... \n",
            "38621.0        King              1.0\n",
            "38651.0        King              1.0\n",
            "38677.0        King              1.0\n",
            "95000.0        Basic             1.0\n",
            "98678.0        Basic             1.0\n",
            "Name: ProductPitched, Length: 2680, dtype: float64\n"
          ]
        }
      ]
    }
  ]
}